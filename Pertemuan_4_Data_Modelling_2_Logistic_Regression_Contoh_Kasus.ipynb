{
  "cells": [
    {
      "cell_type": "markdown",
      "metadata": {
        "id": "view-in-github",
        "colab_type": "text"
      },
      "source": [
        "<a href=\"https://colab.research.google.com/github/Corazons/guns_darma_l_s_p/blob/main/Pertemuan_4_Data_Modelling_2_Logistic_Regression_Contoh_Kasus.ipynb\" target=\"_parent\"><img src=\"https://colab.research.google.com/assets/colab-badge.svg\" alt=\"Open In Colab\"/></a>"
      ]
    },
    {
      "cell_type": "markdown",
      "id": "30fce050",
      "metadata": {
        "id": "30fce050"
      },
      "source": [
        "<center>\n",
        "    <img src=\"https://drive.google.com/uc?export=view&id=1hDKusF04c0lNZA_qOShvWQrpImayVKz8\"  width=\"1000\" />\n",
        "</center>"
      ]
    },
    {
      "cell_type": "markdown",
      "id": "78957aef",
      "metadata": {
        "id": "78957aef"
      },
      "source": [
        "# Hands-On\n",
        "---\n",
        "Hands-On ini digunakan pada kegiatan Kursus Data Science yang merupakan pembekalan bagi mahasiswa Universitas Gunadarma untuk Skema Associate Data Scientist"
      ]
    },
    {
      "cell_type": "markdown",
      "id": "e1d3e6a4",
      "metadata": {
        "id": "e1d3e6a4"
      },
      "source": [
        "### Pertemuan 4 - Semester 8"
      ]
    },
    {
      "cell_type": "markdown",
      "id": "d4269619",
      "metadata": {
        "id": "d4269619"
      },
      "source": [
        "### Daftar Isi :\n",
        "Membangun Model dan Mengevaluasi Hasil Pemodelan\n",
        "- Supervised Learning\n",
        "    - Klasifikasi\n",
        "    1. Menggunakan machine learning\n",
        "    2. Menggunakan deep learning\n",
        "    \n",
        "- Unsupervised Learning"
      ]
    },
    {
      "cell_type": "markdown",
      "id": "1157e033",
      "metadata": {
        "id": "1157e033"
      },
      "source": [
        "### Supervised Learning dan Unsupervised Learning"
      ]
    },
    {
      "cell_type": "markdown",
      "id": "77699057",
      "metadata": {
        "id": "77699057"
      },
      "source": [
        "<center>\n",
        "    <img src=\"https://miro.medium.com/v2/resize:fit:720/format:webp/0*H4D11uM2V6wcgK4k.png\"  width=\"300\" />\n",
        "    <figcaption>Ilustrasi Supervised dan Unsupervised Learning</figcaption>\n",
        "</center>"
      ]
    },
    {
      "cell_type": "markdown",
      "id": "1c5d9ad2",
      "metadata": {
        "id": "1c5d9ad2"
      },
      "source": [
        "### Supervised Learning\n",
        "Supervised learning adalah jenis pembelajaran mesin di mana algoritma diajari menggunakan data yang sudah diberi label. Dalam supervised learning, ada variabel target (variabel dependen) yang ingin diprediksi, dan algoritma dilatih untuk menghubungkan fitur atau atribut yang ada dalam data dengan target yang telah diberikan (variabel independen).\n",
        "\n",
        "Supervised learning biasanya digunakan untuk dua hal utama :\n",
        "- Classification\n",
        "- Regression\n",
        "\n",
        "Beberapa algoritma supervised learning :\n",
        "1. Linear Regression\n",
        "2. Logistic Regression\n",
        "3. K-Nearest Neighbours\n",
        "4. Decision Trees\n",
        "5. SVM\n",
        "6. Naive Bayes\n",
        "7. Neural Networks"
      ]
    },
    {
      "cell_type": "markdown",
      "id": "032330ca",
      "metadata": {
        "id": "032330ca"
      },
      "source": [
        "### Unsupervised Learning\n",
        "Unsupervised learning adalah jenis pembelajaran mesin di mana algoritma dilatih dari data yang tidak memiliki label atau target yang jelas. Dalam unsupervised learning, tujuannya adalah menemukan pola, struktur, dan hubungan tersembunyi dalam data tanpa arahan yang eksplisit.\n",
        "\n",
        "Umumnya unsupervised learning digunakan untuk tiga hal utama:\n",
        "- Clustering\n",
        "- Association\n",
        "- Dimensionality reduction\n",
        "\n",
        "Salah satu contoh unsupervised Learning algorithms :\n",
        "1. K-Means"
      ]
    },
    {
      "cell_type": "markdown",
      "id": "459b3805",
      "metadata": {
        "id": "459b3805"
      },
      "source": [
        "### 1. Membangun Model Supervised Learning dan Mengevaluasi Hasil Pemodelan\n",
        "\n",
        "---"
      ]
    },
    {
      "cell_type": "markdown",
      "id": "d1e2471e",
      "metadata": {
        "id": "d1e2471e"
      },
      "source": [
        "### 1.1.2 Logistic Regression\n",
        "-----"
      ]
    },
    {
      "cell_type": "markdown",
      "id": "36999218",
      "metadata": {
        "id": "36999218"
      },
      "source": [
        "<center>\n",
        "    <img src=\"https://miro.medium.com/v2/resize:fit:1400/1*dm6ZaX5fuSmuVvM4Ds-vcg.jpeg\"  width=\"500\" />\n",
        "</center>"
      ]
    },
    {
      "cell_type": "code",
      "execution_count": null,
      "id": "4e79565a",
      "metadata": {
        "id": "4e79565a"
      },
      "outputs": [],
      "source": [
        "# Import Library\n",
        "import pandas as pd"
      ]
    },
    {
      "cell_type": "code",
      "execution_count": null,
      "id": "73a101e6",
      "metadata": {
        "id": "73a101e6"
      },
      "outputs": [],
      "source": [
        "df = pd.read_csv('delay_maskapai.csv')"
      ]
    },
    {
      "cell_type": "code",
      "execution_count": null,
      "id": "905cdf91",
      "metadata": {
        "id": "905cdf91"
      },
      "outputs": [],
      "source": [
        "# Membuang Kolom \"Flight\"\n",
        "df = df.iloc[:,1:]"
      ]
    },
    {
      "cell_type": "code",
      "execution_count": null,
      "id": "716b7524",
      "metadata": {
        "id": "716b7524",
        "outputId": "4788e0fc-3674-403d-eaa7-867fea73ab97",
        "scrolled": true
      },
      "outputs": [
        {
          "data": {
            "text/html": [
              "<div>\n",
              "<style scoped>\n",
              "    .dataframe tbody tr th:only-of-type {\n",
              "        vertical-align: middle;\n",
              "    }\n",
              "\n",
              "    .dataframe tbody tr th {\n",
              "        vertical-align: top;\n",
              "    }\n",
              "\n",
              "    .dataframe thead th {\n",
              "        text-align: right;\n",
              "    }\n",
              "</style>\n",
              "<table border=\"1\" class=\"dataframe\">\n",
              "  <thead>\n",
              "    <tr style=\"text-align: right;\">\n",
              "      <th></th>\n",
              "      <th>Time</th>\n",
              "      <th>Length</th>\n",
              "      <th>Airline</th>\n",
              "      <th>AirportFrom</th>\n",
              "      <th>AirportTo</th>\n",
              "      <th>DayOfWeek</th>\n",
              "      <th>Class</th>\n",
              "    </tr>\n",
              "  </thead>\n",
              "  <tbody>\n",
              "    <tr>\n",
              "      <th>0</th>\n",
              "      <td>870.0</td>\n",
              "      <td>180.0</td>\n",
              "      <td>CO</td>\n",
              "      <td>IAH</td>\n",
              "      <td>PHX</td>\n",
              "      <td>5</td>\n",
              "      <td>0</td>\n",
              "    </tr>\n",
              "    <tr>\n",
              "      <th>1</th>\n",
              "      <td>365.0</td>\n",
              "      <td>66.0</td>\n",
              "      <td>OO</td>\n",
              "      <td>DSM</td>\n",
              "      <td>MKE</td>\n",
              "      <td>2</td>\n",
              "      <td>0</td>\n",
              "    </tr>\n",
              "    <tr>\n",
              "      <th>2</th>\n",
              "      <td>740.0</td>\n",
              "      <td>257.0</td>\n",
              "      <td>DL</td>\n",
              "      <td>SEA</td>\n",
              "      <td>CVG</td>\n",
              "      <td>7</td>\n",
              "      <td>0</td>\n",
              "    </tr>\n",
              "  </tbody>\n",
              "</table>\n",
              "</div>"
            ],
            "text/plain": [
              "    Time  Length Airline AirportFrom AirportTo  DayOfWeek  Class\n",
              "0  870.0   180.0      CO         IAH       PHX          5      0\n",
              "1  365.0    66.0      OO         DSM       MKE          2      0\n",
              "2  740.0   257.0      DL         SEA       CVG          7      0"
            ]
          },
          "execution_count": 4,
          "metadata": {},
          "output_type": "execute_result"
        }
      ],
      "source": [
        "df.head(3)"
      ]
    },
    {
      "cell_type": "code",
      "execution_count": null,
      "id": "605f5510",
      "metadata": {
        "id": "605f5510"
      },
      "outputs": [],
      "source": [
        "# Scaling\n",
        "from sklearn.preprocessing import RobustScaler"
      ]
    },
    {
      "cell_type": "code",
      "execution_count": null,
      "id": "86e01ad0",
      "metadata": {
        "id": "86e01ad0",
        "outputId": "46307e5c-7380-4511-93d1-a7ce27625fd5",
        "scrolled": true
      },
      "outputs": [
        {
          "data": {
            "text/html": [
              "<div>\n",
              "<style scoped>\n",
              "    .dataframe tbody tr th:only-of-type {\n",
              "        vertical-align: middle;\n",
              "    }\n",
              "\n",
              "    .dataframe tbody tr th {\n",
              "        vertical-align: top;\n",
              "    }\n",
              "\n",
              "    .dataframe thead th {\n",
              "        text-align: right;\n",
              "    }\n",
              "</style>\n",
              "<table border=\"1\" class=\"dataframe\">\n",
              "  <thead>\n",
              "    <tr style=\"text-align: right;\">\n",
              "      <th></th>\n",
              "      <th>Time</th>\n",
              "      <th>Length</th>\n",
              "      <th>Airline</th>\n",
              "      <th>AirportFrom</th>\n",
              "      <th>AirportTo</th>\n",
              "      <th>DayOfWeek</th>\n",
              "      <th>Class</th>\n",
              "    </tr>\n",
              "  </thead>\n",
              "  <tbody>\n",
              "    <tr>\n",
              "      <th>0</th>\n",
              "      <td>0.160256</td>\n",
              "      <td>0.771084</td>\n",
              "      <td>CO</td>\n",
              "      <td>IAH</td>\n",
              "      <td>PHX</td>\n",
              "      <td>5</td>\n",
              "      <td>0</td>\n",
              "    </tr>\n",
              "    <tr>\n",
              "      <th>1</th>\n",
              "      <td>-0.918803</td>\n",
              "      <td>-0.602410</td>\n",
              "      <td>OO</td>\n",
              "      <td>DSM</td>\n",
              "      <td>MKE</td>\n",
              "      <td>2</td>\n",
              "      <td>0</td>\n",
              "    </tr>\n",
              "    <tr>\n",
              "      <th>2</th>\n",
              "      <td>-0.117521</td>\n",
              "      <td>1.698795</td>\n",
              "      <td>DL</td>\n",
              "      <td>SEA</td>\n",
              "      <td>CVG</td>\n",
              "      <td>7</td>\n",
              "      <td>0</td>\n",
              "    </tr>\n",
              "    <tr>\n",
              "      <th>3</th>\n",
              "      <td>-0.427350</td>\n",
              "      <td>1.433735</td>\n",
              "      <td>WN</td>\n",
              "      <td>SNA</td>\n",
              "      <td>MDW</td>\n",
              "      <td>7</td>\n",
              "      <td>1</td>\n",
              "    </tr>\n",
              "    <tr>\n",
              "      <th>4</th>\n",
              "      <td>-0.566239</td>\n",
              "      <td>0.204819</td>\n",
              "      <td>CO</td>\n",
              "      <td>IAH</td>\n",
              "      <td>MCO</td>\n",
              "      <td>6</td>\n",
              "      <td>1</td>\n",
              "    </tr>\n",
              "  </tbody>\n",
              "</table>\n",
              "</div>"
            ],
            "text/plain": [
              "       Time    Length Airline AirportFrom AirportTo  DayOfWeek  Class\n",
              "0  0.160256  0.771084      CO         IAH       PHX          5      0\n",
              "1 -0.918803 -0.602410      OO         DSM       MKE          2      0\n",
              "2 -0.117521  1.698795      DL         SEA       CVG          7      0\n",
              "3 -0.427350  1.433735      WN         SNA       MDW          7      1\n",
              "4 -0.566239  0.204819      CO         IAH       MCO          6      1"
            ]
          },
          "execution_count": 6,
          "metadata": {},
          "output_type": "execute_result"
        }
      ],
      "source": [
        "scaler = RobustScaler()\n",
        "df[['Time','Length']] = scaler.fit_transform(df[['Time','Length']])\n",
        "df.head()"
      ]
    },
    {
      "cell_type": "markdown",
      "id": "782c91f8",
      "metadata": {
        "id": "782c91f8"
      },
      "source": [
        "Tujuan dari logistic regression adalah untuk mempelajari hubungan antara variabel independen dan probabilitas terjadinya suatu kejadian atau kelas dalam bentuk nilai diskrit (biasanya 0 atau 1). Logistic regression menggunakan fungsi logistik (atau sigmoid) untuk menghasilkan prediksi yang berada dalam rentang antara 0 dan 1, yang dapat diinterpretasikan sebagai probabilitas."
      ]
    },
    {
      "cell_type": "markdown",
      "id": "3738e5fd",
      "metadata": {
        "id": "3738e5fd"
      },
      "source": [
        "Tipe-tipe Logistic Regression\n",
        "1. Binary Logistic Regression : Adalah Logistic Regression yang hanya memiliki 2 output saja (mengklasifikasi kedalam 2 kelas berbeda). Contoh: Positif-Negatif, Obesitas-Tidak Obesitas, Delay-Tidak Delay.\n",
        "\n",
        "2. Multinomial Logistic Regression : Adalah Logistic Regression yang memiliki 2 output atau lebih (mengklasifikasi kedalam 2 kelas berbeda). Contohnya kelas Sentiment Analysis kalimat positif, negatif, dan netral.\n",
        "\n",
        "3. Ordinal Logistic Regression : Adalah Logistic Regression yang memiliki 2 output atau lebih dengan memperhatikan urutan. (mengklasifikasi kedalam 2 kelas berbeda dengan memperhatikan urutan). Contohnya adalah membagi kelas mahasiswa dalam range Index Prestasi Kumulatif 1.xx, 2.xx, 3.xx, dan 4.00."
      ]
    },
    {
      "cell_type": "code",
      "execution_count": null,
      "id": "5ab35567",
      "metadata": {
        "id": "5ab35567"
      },
      "outputs": [],
      "source": [
        "# Menyimpan nama kolom yang berjenis kategori ke dalam variabel cat_col\n",
        "cat_col = ['Airline','AirportFrom','AirportTo','DayOfWeek']"
      ]
    },
    {
      "cell_type": "code",
      "execution_count": null,
      "id": "a0f63805",
      "metadata": {
        "id": "a0f63805"
      },
      "outputs": [],
      "source": [
        "# Encoding Kolom Kategori\n",
        "from sklearn import preprocessing\n",
        "le = preprocessing.LabelEncoder()\n",
        "df[cat_col] = df[cat_col].apply(le.fit_transform)"
      ]
    },
    {
      "cell_type": "code",
      "execution_count": null,
      "id": "c6d26668",
      "metadata": {
        "id": "c6d26668",
        "outputId": "6a134485-c341-470d-f043-cc9f58c37076"
      },
      "outputs": [
        {
          "data": {
            "text/html": [
              "<div>\n",
              "<style scoped>\n",
              "    .dataframe tbody tr th:only-of-type {\n",
              "        vertical-align: middle;\n",
              "    }\n",
              "\n",
              "    .dataframe tbody tr th {\n",
              "        vertical-align: top;\n",
              "    }\n",
              "\n",
              "    .dataframe thead th {\n",
              "        text-align: right;\n",
              "    }\n",
              "</style>\n",
              "<table border=\"1\" class=\"dataframe\">\n",
              "  <thead>\n",
              "    <tr style=\"text-align: right;\">\n",
              "      <th></th>\n",
              "      <th>Time</th>\n",
              "      <th>Length</th>\n",
              "      <th>Airline</th>\n",
              "      <th>AirportFrom</th>\n",
              "      <th>AirportTo</th>\n",
              "      <th>DayOfWeek</th>\n",
              "      <th>Class</th>\n",
              "    </tr>\n",
              "  </thead>\n",
              "  <tbody>\n",
              "    <tr>\n",
              "      <th>0</th>\n",
              "      <td>0.160256</td>\n",
              "      <td>0.771084</td>\n",
              "      <td>4</td>\n",
              "      <td>125</td>\n",
              "      <td>199</td>\n",
              "      <td>4</td>\n",
              "      <td>0</td>\n",
              "    </tr>\n",
              "    <tr>\n",
              "      <th>1</th>\n",
              "      <td>-0.918803</td>\n",
              "      <td>-0.602410</td>\n",
              "      <td>12</td>\n",
              "      <td>76</td>\n",
              "      <td>170</td>\n",
              "      <td>1</td>\n",
              "      <td>0</td>\n",
              "    </tr>\n",
              "    <tr>\n",
              "      <th>2</th>\n",
              "      <td>-0.117521</td>\n",
              "      <td>1.698795</td>\n",
              "      <td>5</td>\n",
              "      <td>235</td>\n",
              "      <td>64</td>\n",
              "      <td>6</td>\n",
              "      <td>0</td>\n",
              "    </tr>\n",
              "    <tr>\n",
              "      <th>3</th>\n",
              "      <td>-0.427350</td>\n",
              "      <td>1.433735</td>\n",
              "      <td>15</td>\n",
              "      <td>245</td>\n",
              "      <td>162</td>\n",
              "      <td>6</td>\n",
              "      <td>1</td>\n",
              "    </tr>\n",
              "    <tr>\n",
              "      <th>4</th>\n",
              "      <td>-0.566239</td>\n",
              "      <td>0.204819</td>\n",
              "      <td>4</td>\n",
              "      <td>125</td>\n",
              "      <td>160</td>\n",
              "      <td>5</td>\n",
              "      <td>1</td>\n",
              "    </tr>\n",
              "  </tbody>\n",
              "</table>\n",
              "</div>"
            ],
            "text/plain": [
              "       Time    Length  Airline  AirportFrom  AirportTo  DayOfWeek  Class\n",
              "0  0.160256  0.771084        4          125        199          4      0\n",
              "1 -0.918803 -0.602410       12           76        170          1      0\n",
              "2 -0.117521  1.698795        5          235         64          6      0\n",
              "3 -0.427350  1.433735       15          245        162          6      1\n",
              "4 -0.566239  0.204819        4          125        160          5      1"
            ]
          },
          "execution_count": 9,
          "metadata": {},
          "output_type": "execute_result"
        }
      ],
      "source": [
        "df.head()"
      ]
    },
    {
      "cell_type": "code",
      "execution_count": null,
      "id": "46f083d3",
      "metadata": {
        "id": "46f083d3"
      },
      "outputs": [],
      "source": [
        "# Membuat variabel independen (X) dan variabel dependen (y)\n",
        "X = df.iloc[:,0:-1].values\n",
        "y = df.iloc[:,-1].values"
      ]
    },
    {
      "cell_type": "code",
      "execution_count": null,
      "id": "05540df7",
      "metadata": {
        "id": "05540df7"
      },
      "outputs": [],
      "source": [
        "# Membagi dataset ke data latih dan data uji\n",
        "from sklearn.model_selection import train_test_split\n",
        "X_train, X_test, y_train, y_test = train_test_split(X,y,test_size=0.3, random_state=0)"
      ]
    },
    {
      "cell_type": "code",
      "execution_count": null,
      "id": "1ecb2bbb",
      "metadata": {
        "id": "1ecb2bbb"
      },
      "outputs": [],
      "source": [
        "# Membuat Model - LogisticRegression\n",
        "from sklearn.linear_model import LogisticRegression"
      ]
    },
    {
      "cell_type": "code",
      "execution_count": null,
      "id": "dc613c08",
      "metadata": {
        "id": "dc613c08"
      },
      "outputs": [],
      "source": [
        "reg = LogisticRegression(solver='lbfgs', max_iter=1000)"
      ]
    },
    {
      "cell_type": "markdown",
      "id": "adeac5b9",
      "metadata": {
        "id": "adeac5b9"
      },
      "source": [
        "- solver='lbfgs': Parameter solver digunakan untuk memilih algoritma optimasi yang digunakan untuk mempelajari koefisien model. 'lbfgs' adalah salah satu algoritma yang umum digunakan untuk logistic regression dan cocok untuk dataset yang cukup besar.\n",
        "\n",
        "- max_iter=1000: Parameter max_iter menentukan jumlah maksimum iterasi yang akan dilakukan oleh algoritma optimasi. Nilai 1000 mengindikasikan bahwa algoritma akan melakukan hingga 1000 iterasi jika belum mencapai konvergensi."
      ]
    },
    {
      "cell_type": "code",
      "execution_count": null,
      "id": "338c2f61",
      "metadata": {
        "id": "338c2f61"
      },
      "outputs": [],
      "source": [
        "reg.fit(X_train, y_train)\n",
        "y_pred = reg.predict(X_test)"
      ]
    },
    {
      "cell_type": "code",
      "execution_count": null,
      "id": "68b637ec",
      "metadata": {
        "id": "68b637ec",
        "outputId": "fc7f877a-628a-47b7-8a2e-cbfa6058e675"
      },
      "outputs": [
        {
          "data": {
            "text/plain": [
              "array([[1364,  459],\n",
              "       [ 922,  492]])"
            ]
          },
          "execution_count": 15,
          "metadata": {},
          "output_type": "execute_result"
        }
      ],
      "source": [
        "# Membuat Confusion Matrix\n",
        "from sklearn import metrics\n",
        "\n",
        "cnf_matrix = metrics.confusion_matrix(y_test, y_pred)\n",
        "cnf_matrix"
      ]
    },
    {
      "cell_type": "markdown",
      "id": "1658a955",
      "metadata": {
        "id": "1658a955"
      },
      "source": [
        "Confusion Matrix adalah pengukuran performa untuk masalah klasifikasi machine learning dimana keluaran dapat berupa dua kelas atau lebih.  Confusion Matrix adalah tabel dengan 4 kombinasi berbeda dari nilai prediksi dan nilai aktual. Ada empat istilah yang merupakan representasi hasil proses klasifikasi pada confusion matrix yaitu\n",
        "1. True Positif : Anda memprediksi positif dan itu benar. Anda memprediksikan bahwa maskapai tersebut delay dan maskapai tersebut memang delay.\n",
        "2. True Negatif : Anda memprediksi negatif dan itu benar. Anda memprediksikan bahwa maskapai tersebut tidak delay dan maskapai tersebut memang tidak delay.\n",
        "3. False Positif : Anda memprediksi positif dan itu salah. Anda memprediksikan bahwa maskapai tersebut delay tetapi maskapai tersebut tidak delay\n",
        "4. False Negatif : Anda memprediksi negatif dan itu salah. Anda memprediksikan bahwa maskapai tersebut tidak delay tetapi maskapai tersebut delay"
      ]
    },
    {
      "cell_type": "markdown",
      "id": "f193937a",
      "metadata": {
        "id": "f193937a"
      },
      "source": [
        "<center>\n",
        "    <img src=\"https://static.packt-cdn.com/products/9781838555078/graphics/C13314_06_05.jpg\"  width=\"500\" />\n",
        "</center>"
      ]
    },
    {
      "cell_type": "code",
      "execution_count": null,
      "id": "46fbf407",
      "metadata": {
        "id": "46fbf407",
        "outputId": "03b6672f-558a-43e0-b145-48730a2e6a9e"
      },
      "outputs": [
        {
          "data": {
            "text/plain": [
              "Text(0.5, 257.44, 'Predicted label')"
            ]
          },
          "execution_count": 16,
          "metadata": {},
          "output_type": "execute_result"
        },
        {
          "data": {
            "image/png": "[encoded data removed]",
            "text/plain": [
              "<Figure size 432x288 with 2 Axes>"
            ]
          },
          "metadata": {
            "needs_background": "light"
          },
          "output_type": "display_data"
        }
      ],
      "source": [
        "# Visualisasi Confusion Matrix dengan Heatmap\n",
        "\n",
        "# Import Library\n",
        "import numpy as np\n",
        "import matplotlib.pyplot as plt\n",
        "import seaborn as sns\n",
        "\n",
        "class_names=[0,1] # Label kelas yang akan ditampilkan pada sumbu x dan y\n",
        "fig, ax = plt.subplots() #Membuat objek gambar dan sumbu menggunakan\n",
        "tick_marks = np.arange(len(class_names)) # Membuat array dengan rentang jumlah kelas yang ada\n",
        "\n",
        "# Menentukan tanda-tanda pada sumbu x dan y sesuai dengan array yang telah dibuat\n",
        "plt.xticks(tick_marks, class_names)\n",
        "plt.yticks(tick_marks, class_names)\n",
        "\n",
        "# Membuat Heatmap\n",
        "sns.heatmap(pd.DataFrame(cnf_matrix) #Parameter yang akan divisualisasi\n",
        "            , annot=True # Menampilkan nilai di dalam kotak heatmap\n",
        "            , cmap=\"YlGnBu\" # Skema warna pada heatmap, \"YlGnBu\" adalah kombinasi antara Yellow (Kuning), Green (Hijau), dan Blue (Biru).\n",
        "            ,fmt='g') #Mengatur format angka menjadi notasi umum (general notation)\n",
        "\n",
        "# Mengatur posisi label sumbu x ke bagian atas heatmap\n",
        "ax.xaxis.set_label_position(\"top\")\n",
        "\n",
        "# Mengatur tampilan grafik agar lebih rapi.\n",
        "plt.tight_layout()\n",
        "\n",
        "# Mengatur judul grafik, label pada sumbu y dan x\n",
        "plt.title('Confusion matrix', y=1.1)\n",
        "plt.ylabel('Actual label')\n",
        "plt.xlabel('Predicted label')"
      ]
    },
    {
      "cell_type": "code",
      "execution_count": null,
      "id": "75d36ec1",
      "metadata": {
        "id": "75d36ec1",
        "outputId": "31b3dc85-5aed-4986-ecbd-116a22431e45"
      },
      "outputs": [
        {
          "name": "stdout",
          "output_type": "stream",
          "text": [
            "              precision    recall  f1-score   support\n",
            "\n",
            " Not Delayed       0.60      0.75      0.66      1823\n",
            "     Delayed       0.52      0.35      0.42      1414\n",
            "\n",
            "    accuracy                           0.57      3237\n",
            "   macro avg       0.56      0.55      0.54      3237\n",
            "weighted avg       0.56      0.57      0.56      3237\n",
            "\n"
          ]
        }
      ],
      "source": [
        "# Import library\n",
        "from sklearn.metrics import classification_report\n",
        "\n",
        "# Mendefinisikan nama kelas dalam array\n",
        "target_names = ['Not Delayed', 'Delayed']\n",
        "\n",
        "print(classification_report(y_test # Array target yang berisi label aktual\n",
        "                            , y_pred # Array target yang berisi label prediksi\n",
        "                            , target_names=target_names)) #Memberikan nama kelas yang akan ditampilkan"
      ]
    },
    {
      "cell_type": "markdown",
      "id": "98ad34fe",
      "metadata": {
        "id": "98ad34fe"
      },
      "source": [
        "#### Precision\n",
        "Precision (Presisi): Precision mengukur sejauh mana kelas yang diprediksi sebagai positif (misalkan 'Delayed') adalah benar. Precision dihitung dengan rumus: TP / (TP + FP), di mana TP adalah True Positive (jumlah sampel positif yang diprediksi dengan benar) dan FP adalah False Positive (jumlah sampel negatif yang salah diprediksi sebagai positif). Precision berkisar antara 0 dan 1, di mana nilai yang lebih tinggi menunjukkan kinerja yang lebih baik.\n",
        "    \n",
        "Untuk kelas \"Not Delayed\", precision adalah 0.60, yang berarti 60% dari prediksi \"Not Delayed\" adalah benar. Untuk kelas \"Delayed\", precision adalah 0.55, yang berarti 55% dari prediksi \"Delayed\" adalah benar."
      ]
    },
    {
      "cell_type": "markdown",
      "id": "6839ac5a",
      "metadata": {
        "id": "6839ac5a"
      },
      "source": [
        "#### Recall\n",
        "Recall (Recall): Recall mengukur sejauh mana kelas positif (misalkan 'Delayed') yang ditemukan oleh model. Recall dihitung dengan rumus: TP / (TP + FN), di mana TP adalah True Positive (jumlah sampel positif yang diprediksi dengan benar) dan FN adalah False Negative (jumlah sampel positif yang salah diprediksi sebagai negatif). Recall juga berkisar antara 0 dan 1, di mana nilai yang lebih tinggi menunjukkan kinerja yang lebih baik.\n",
        "\n",
        "Untuk kelas \"Not Delayed\", recall adalah 0.77, yang berarti model dapat menemukan 77% dari data yang sebenarnya adalah \"Not Delayed\". Untuk kelas \"Delayed\", recall adalah 0.36, yang berarti model hanya dapat menemukan 36% dari data yang sebenarnya adalah \"Delayed\"."
      ]
    },
    {
      "cell_type": "markdown",
      "id": "f6507799",
      "metadata": {
        "id": "f6507799"
      },
      "source": [
        "#### F1-Score\n",
        "F1-score: F1-score adalah harmonik rata-rata presisi dan recall. F1-score menggabungkan presisi dan recall menjadi satu angka yang mencerminkan keseimbangan antara keduanya. F1-score dihitung dengan rumus: 2 * (Precision * Recall) / (Precision + Recall). Seperti precision dan recall, F1-score juga berkisar antara 0 dan 1, dan nilai yang lebih tinggi menunjukkan kinerja yang lebih baik.\n",
        "\n",
        "Untuk kelas \"Not Delayed\", f1-score adalah 0.67, yang mencerminkan keseimbangan antara precision dan recall untuk kelas tersebut. Untuk kelas \"Delayed\", f1-score adalah 0.43."
      ]
    },
    {
      "cell_type": "markdown",
      "id": "04a090e7",
      "metadata": {
        "id": "04a090e7"
      },
      "source": [
        "#### Support\n",
        "Support adalah jumlah sampel yang termasuk dalam setiap kelas. Dalam konteks laporan klasifikasi, support menunjukkan jumlah sampel aktual yang memiliki label kelas tertentu.\n",
        "\n",
        "Terdapat 89,984 sampel yang sebenarnya adalah \"Not Delayed\" dan 71,831 sampel yang sebenarnya adalah \"Delayed\""
      ]
    },
    {
      "cell_type": "markdown",
      "id": "c7e021b2",
      "metadata": {
        "id": "c7e021b2"
      },
      "source": [
        "#### Accuracy\n",
        "Akurasi adalah sejauh mana model dapat memprediksi secara benar keseluruhan kelas. Dalam kasus ini, akurasi adalah 0.58, yang berarti model dapat memprediksi dengan benar 58% dari keseluruhan sampel."
      ]
    },
    {
      "cell_type": "markdown",
      "id": "e1efe3f9",
      "metadata": {
        "id": "e1efe3f9"
      },
      "source": [
        "#### Macro average\n",
        "Macro average (rata-rata makro): Rata-rata makro adalah rata-rata dari metrik evaluasi (precision, recall, dan f1-score) untuk setiap kelas secara terpisah. Dalam kasus ini, rata-rata makro adalah 0.57 untuk precision, 0.56 untuk recall, dan 0.55 untuk f1-score."
      ]
    },
    {
      "cell_type": "markdown",
      "id": "32c43bf3",
      "metadata": {
        "id": "32c43bf3"
      },
      "source": [
        "#### Weighted average\n",
        "Weighted average (rata-rata berbobot): Rata-rata berbobot adalah rata-rata dari metrik evaluasi (precision, recall, dan f1-score) untuk setiap kelas dengan mempertimbangkan jumlah sampel dalam setiap kelas. Dalam kasus ini, rata-rata berbobot adalah 0.58 untuk precision, 0.58 untuk recall, dan 0.56 untuk f1-score."
      ]
    },
    {
      "cell_type": "markdown",
      "id": "d3b04d3b",
      "metadata": {
        "id": "d3b04d3b"
      },
      "source": [
        "####  Menghitung dan menampilkan kurva ROC (Receiver Operating Characteristic) serta menghitung AUC (Area Under the Curve)\n",
        "\n",
        "ROC dan AUC adalah metode evaluasi yang umum digunakan untuk mengukur performa model klasifikasi.\n",
        "- Kurva ROC digunakan untuk memvisualisasikan performa model klasifikasi dalam membedakan antara kelas positif dan negatif dengan memvariasikan threshold. Semakin tinggi kurva ROC, semakin baik model dalam membedakan kedua kelas.\n",
        "\n",
        "- AUC merupakan ukuran dari luas area di bawah kurva ROC, yang menggambarkan seberapa baik model dapat membedakan kelas positif dan negatif secara keseluruhan. Semakin tinggi nilai AUC, semakin baik performa model klasifikasi tersebut."
      ]
    },
    {
      "cell_type": "code",
      "execution_count": null,
      "id": "7629ae0a",
      "metadata": {
        "id": "7629ae0a"
      },
      "outputs": [],
      "source": [
        "import matplotlib.pyplot as plt"
      ]
    },
    {
      "cell_type": "code",
      "execution_count": null,
      "id": "2aa02456",
      "metadata": {
        "id": "2aa02456",
        "outputId": "9f357dc0-1eca-41a2-f494-4e881b96d89a"
      },
      "outputs": [
        {
          "data": {
            "image/png": "[encoded data removed]",
            "text/plain": [
              "<Figure size 432x288 with 1 Axes>"
            ]
          },
          "metadata": {
            "needs_background": "light"
          },
          "output_type": "display_data"
        }
      ],
      "source": [
        "# Memperoleh probabilitas prediksi kelas positif (y=1) dari model klasifikasi reg untuk data uji (X_test)\n",
        "y_pred_proba = reg.predict_proba(X_test)[::,1]\n",
        "\n",
        "# Menghitung false positive rate (fpr), true positive rate (tpr), dan threshold yang terkait dengan kurva ROC.\n",
        "fpr, tpr, _ = metrics.roc_curve(y_test, #Label aktual\n",
        "                                y_pred_proba)\n",
        "\n",
        "# Menghitung nilai AUC dari kurva ROC\n",
        "auc = metrics.roc_auc_score(y_test, y_pred_proba)\n",
        "\n",
        "# Membuat plot untuk kurva ROC\n",
        "plt.plot(fpr,tpr\n",
        "         ,label=\"Score AUC=\"+str(auc)) #Label \"Score AUC\" ditambahkan ke legenda untuk menampilkan nilai AUC di grafik\n",
        "\n",
        "# Menampilkan legenda di lokasi keempat (kanan bawah) pada grafik\n",
        "plt.legend(loc=4)\n",
        "\n",
        "# Menampilkan grafik\n",
        "plt.show()"
      ]
    },
    {
      "cell_type": "markdown",
      "id": "7564f85a",
      "metadata": {
        "id": "7564f85a"
      },
      "source": [
        "#### Perbedaan Linear & Logistic Regression"
      ]
    },
    {
      "cell_type": "markdown",
      "id": "cecf170b",
      "metadata": {
        "id": "cecf170b"
      },
      "source": [
        "<center>\n",
        "    <img src=\"https://www.simplilearn.com/ice9/free_resources_article_thumb/Table1Linearvs.Logistic.png\"  width=\"500\" />\n",
        "</center>"
      ]
    }
  ],
  "metadata": {
    "colab": {
      "provenance": [],
      "include_colab_link": true
    },
    "kernelspec": {
      "display_name": "Python 3 (ipykernel)",
      "language": "python",
      "name": "python3"
    },
    "language_info": {
      "codemirror_mode": {
        "name": "ipython",
        "version": 3
      },
      "file_extension": ".py",
      "mimetype": "text/x-python",
      "name": "python",
      "nbconvert_exporter": "python",
      "pygments_lexer": "ipython3",
      "version": "3.8.10"
    }
  },
  "nbformat": 4,
  "nbformat_minor": 5
}