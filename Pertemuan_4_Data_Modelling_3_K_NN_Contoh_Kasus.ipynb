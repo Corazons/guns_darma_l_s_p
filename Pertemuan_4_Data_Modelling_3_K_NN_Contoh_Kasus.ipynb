{
  "cells": [
    {
      "cell_type": "markdown",
      "metadata": {
        "id": "view-in-github",
        "colab_type": "text"
      },
      "source": [
        "<a href=\"https://colab.research.google.com/github/Corazons/guns_darma_l_s_p/blob/main/Pertemuan_4_Data_Modelling_3_K_NN_Contoh_Kasus.ipynb\" target=\"_parent\"><img src=\"https://colab.research.google.com/assets/colab-badge.svg\" alt=\"Open In Colab\"/></a>"
      ]
    },
    {
      "cell_type": "markdown",
      "id": "30fce050",
      "metadata": {
        "id": "30fce050"
      },
      "source": [
        "<center>\n",
        "    <img src=\"https://drive.google.com/uc?export=view&id=1hDKusF04c0lNZA_qOShvWQrpImayVKz8\"  width=\"1000\" />\n",
        "</center>"
      ]
    },
    {
      "cell_type": "markdown",
      "id": "78957aef",
      "metadata": {
        "id": "78957aef"
      },
      "source": [
        "# Hands-On\n",
        "---\n",
        "Hands-On ini digunakan pada kegiatan Kursus Data Science yang merupakan pembekalan bagi mahasiswa Universitas Gunadarma untuk Skema Associate Data Scientist"
      ]
    },
    {
      "cell_type": "markdown",
      "id": "e1d3e6a4",
      "metadata": {
        "id": "e1d3e6a4"
      },
      "source": [
        "### Pertemuan 4 - Semester 8"
      ]
    },
    {
      "cell_type": "markdown",
      "id": "d4269619",
      "metadata": {
        "id": "d4269619"
      },
      "source": [
        "### Daftar Isi :\n",
        "Membangun Model dan Mengevaluasi Hasil Pemodelan\n",
        "- Supervised Learning\n",
        "    - Klasifikasi\n",
        "    1. Menggunakan machine learning\n",
        "    2. Menggunakan deep learning\n",
        "    \n",
        "- Unsupervised Learning"
      ]
    },
    {
      "cell_type": "markdown",
      "id": "1157e033",
      "metadata": {
        "id": "1157e033"
      },
      "source": [
        "### Supervised Learning dan Unsupervised Learning"
      ]
    },
    {
      "cell_type": "markdown",
      "id": "77699057",
      "metadata": {
        "id": "77699057"
      },
      "source": [
        "<center>\n",
        "    <img src=\"https://miro.medium.com/v2/resize:fit:720/format:webp/0*H4D11uM2V6wcgK4k.png\"  width=\"300\" />\n",
        "    <figcaption>Ilustrasi Supervised dan Unsupervised Learning</figcaption>\n",
        "</center>"
      ]
    },
    {
      "cell_type": "markdown",
      "id": "1c5d9ad2",
      "metadata": {
        "id": "1c5d9ad2"
      },
      "source": [
        "### Supervised Learning\n",
        "Supervised learning adalah jenis pembelajaran mesin di mana algoritma diajari menggunakan data yang sudah diberi label. Dalam supervised learning, ada variabel target (variabel dependen) yang ingin diprediksi, dan algoritma dilatih untuk menghubungkan fitur atau atribut yang ada dalam data dengan target yang telah diberikan (variabel independen).\n",
        "\n",
        "Supervised learning biasanya digunakan untuk dua hal utama :\n",
        "- Classification\n",
        "- Regression\n",
        "\n",
        "Beberapa algoritma supervised learning :\n",
        "1. Linear Regression\n",
        "2. Logistic Regression\n",
        "3. K-Nearest Neighbours\n",
        "4. Decision Trees\n",
        "5. SVM\n",
        "6. Naive Bayes\n",
        "7. Neural Networks"
      ]
    },
    {
      "cell_type": "markdown",
      "id": "032330ca",
      "metadata": {
        "id": "032330ca"
      },
      "source": [
        "### Unsupervised Learning\n",
        "Unsupervised learning adalah jenis pembelajaran mesin di mana algoritma dilatih dari data yang tidak memiliki label atau target yang jelas. Dalam unsupervised learning, tujuannya adalah menemukan pola, struktur, dan hubungan tersembunyi dalam data tanpa arahan yang eksplisit.\n",
        "\n",
        "Umumnya unsupervised learning digunakan untuk tiga hal utama:\n",
        "- Clustering\n",
        "- Association\n",
        "- Dimensionality reduction\n",
        "\n",
        "Salah satu contoh unsupervised Learning algorithms :\n",
        "1. K-Means"
      ]
    },
    {
      "cell_type": "markdown",
      "id": "459b3805",
      "metadata": {
        "id": "459b3805"
      },
      "source": [
        "### 1. Membangun Model Supervised Learning dan Mengevaluasi Hasil Pemodelan\n",
        "\n",
        "---"
      ]
    },
    {
      "cell_type": "markdown",
      "id": "7204be47",
      "metadata": {
        "id": "7204be47"
      },
      "source": [
        "### 1.1 Supervised Learning dengan Linear Regression, Logistic Regression, dan K-NN"
      ]
    },
    {
      "cell_type": "markdown",
      "id": "68b48bb1",
      "metadata": {
        "id": "68b48bb1"
      },
      "source": [
        "### 1.1.3 K-NN (K-Nearest Neighbors)\n",
        "-----"
      ]
    },
    {
      "cell_type": "markdown",
      "id": "0e07a434",
      "metadata": {
        "id": "0e07a434"
      },
      "source": [
        "K-NN memprediksi kelas yang benar untuk data uji dengan menghitung jarak antara data uji dan semua titik pelatihan. Kemudian, K-NN memilih K titik yang paling dekat dengan data uji.\n",
        "\n",
        "Misalkan terdapat dua kategori, yaitu Kategori A dan Kategori B, dan kita memiliki titik data baru x1, maka titik data ini akan tergolong dalam kategori apa? Untuk memecahkan jenis masalah seperti ini, kita dapat menggunakan algoritma K-NN. Dengan bantuan K-NN, kita dapat dengan mudah mengidentifikasi kategori atau kelas dari dataset tertentu.\n",
        "\n",
        "<center>\n",
        "    <img src=\"https://miro.medium.com/v2/resize:fit:640/format:webp/0*OltO4Txr-D0lPWNL.png\"  width=\"500\" />\n",
        "</center>"
      ]
    },
    {
      "cell_type": "code",
      "execution_count": null,
      "id": "4e79565a",
      "metadata": {
        "id": "4e79565a"
      },
      "outputs": [],
      "source": [
        "# Import Library\n",
        "import pandas as pd"
      ]
    },
    {
      "cell_type": "code",
      "execution_count": null,
      "id": "73a101e6",
      "metadata": {
        "id": "73a101e6"
      },
      "outputs": [],
      "source": [
        "df = pd.read_csv('delay_maskapai.csv')"
      ]
    },
    {
      "cell_type": "code",
      "execution_count": null,
      "id": "905cdf91",
      "metadata": {
        "id": "905cdf91"
      },
      "outputs": [],
      "source": [
        "# Membuang Kolom \"Flight\"\n",
        "df = df.iloc[:,1:]"
      ]
    },
    {
      "cell_type": "code",
      "execution_count": null,
      "id": "716b7524",
      "metadata": {
        "id": "716b7524",
        "outputId": "4788e0fc-3674-403d-eaa7-867fea73ab97",
        "scrolled": true
      },
      "outputs": [
        {
          "data": {
            "text/html": [
              "<div>\n",
              "<style scoped>\n",
              "    .dataframe tbody tr th:only-of-type {\n",
              "        vertical-align: middle;\n",
              "    }\n",
              "\n",
              "    .dataframe tbody tr th {\n",
              "        vertical-align: top;\n",
              "    }\n",
              "\n",
              "    .dataframe thead th {\n",
              "        text-align: right;\n",
              "    }\n",
              "</style>\n",
              "<table border=\"1\" class=\"dataframe\">\n",
              "  <thead>\n",
              "    <tr style=\"text-align: right;\">\n",
              "      <th></th>\n",
              "      <th>Time</th>\n",
              "      <th>Length</th>\n",
              "      <th>Airline</th>\n",
              "      <th>AirportFrom</th>\n",
              "      <th>AirportTo</th>\n",
              "      <th>DayOfWeek</th>\n",
              "      <th>Class</th>\n",
              "    </tr>\n",
              "  </thead>\n",
              "  <tbody>\n",
              "    <tr>\n",
              "      <th>0</th>\n",
              "      <td>870.0</td>\n",
              "      <td>180.0</td>\n",
              "      <td>CO</td>\n",
              "      <td>IAH</td>\n",
              "      <td>PHX</td>\n",
              "      <td>5</td>\n",
              "      <td>0</td>\n",
              "    </tr>\n",
              "    <tr>\n",
              "      <th>1</th>\n",
              "      <td>365.0</td>\n",
              "      <td>66.0</td>\n",
              "      <td>OO</td>\n",
              "      <td>DSM</td>\n",
              "      <td>MKE</td>\n",
              "      <td>2</td>\n",
              "      <td>0</td>\n",
              "    </tr>\n",
              "    <tr>\n",
              "      <th>2</th>\n",
              "      <td>740.0</td>\n",
              "      <td>257.0</td>\n",
              "      <td>DL</td>\n",
              "      <td>SEA</td>\n",
              "      <td>CVG</td>\n",
              "      <td>7</td>\n",
              "      <td>0</td>\n",
              "    </tr>\n",
              "  </tbody>\n",
              "</table>\n",
              "</div>"
            ],
            "text/plain": [
              "    Time  Length Airline AirportFrom AirportTo  DayOfWeek  Class\n",
              "0  870.0   180.0      CO         IAH       PHX          5      0\n",
              "1  365.0    66.0      OO         DSM       MKE          2      0\n",
              "2  740.0   257.0      DL         SEA       CVG          7      0"
            ]
          },
          "execution_count": 4,
          "metadata": {},
          "output_type": "execute_result"
        }
      ],
      "source": [
        "df.head(3)"
      ]
    },
    {
      "cell_type": "code",
      "execution_count": null,
      "id": "605f5510",
      "metadata": {
        "id": "605f5510"
      },
      "outputs": [],
      "source": [
        "# Scaling\n",
        "from sklearn.preprocessing import RobustScaler"
      ]
    },
    {
      "cell_type": "code",
      "execution_count": null,
      "id": "86e01ad0",
      "metadata": {
        "id": "86e01ad0",
        "outputId": "46307e5c-7380-4511-93d1-a7ce27625fd5"
      },
      "outputs": [
        {
          "data": {
            "text/html": [
              "<div>\n",
              "<style scoped>\n",
              "    .dataframe tbody tr th:only-of-type {\n",
              "        vertical-align: middle;\n",
              "    }\n",
              "\n",
              "    .dataframe tbody tr th {\n",
              "        vertical-align: top;\n",
              "    }\n",
              "\n",
              "    .dataframe thead th {\n",
              "        text-align: right;\n",
              "    }\n",
              "</style>\n",
              "<table border=\"1\" class=\"dataframe\">\n",
              "  <thead>\n",
              "    <tr style=\"text-align: right;\">\n",
              "      <th></th>\n",
              "      <th>Time</th>\n",
              "      <th>Length</th>\n",
              "      <th>Airline</th>\n",
              "      <th>AirportFrom</th>\n",
              "      <th>AirportTo</th>\n",
              "      <th>DayOfWeek</th>\n",
              "      <th>Class</th>\n",
              "    </tr>\n",
              "  </thead>\n",
              "  <tbody>\n",
              "    <tr>\n",
              "      <th>0</th>\n",
              "      <td>0.160256</td>\n",
              "      <td>0.771084</td>\n",
              "      <td>CO</td>\n",
              "      <td>IAH</td>\n",
              "      <td>PHX</td>\n",
              "      <td>5</td>\n",
              "      <td>0</td>\n",
              "    </tr>\n",
              "    <tr>\n",
              "      <th>1</th>\n",
              "      <td>-0.918803</td>\n",
              "      <td>-0.602410</td>\n",
              "      <td>OO</td>\n",
              "      <td>DSM</td>\n",
              "      <td>MKE</td>\n",
              "      <td>2</td>\n",
              "      <td>0</td>\n",
              "    </tr>\n",
              "    <tr>\n",
              "      <th>2</th>\n",
              "      <td>-0.117521</td>\n",
              "      <td>1.698795</td>\n",
              "      <td>DL</td>\n",
              "      <td>SEA</td>\n",
              "      <td>CVG</td>\n",
              "      <td>7</td>\n",
              "      <td>0</td>\n",
              "    </tr>\n",
              "    <tr>\n",
              "      <th>3</th>\n",
              "      <td>-0.427350</td>\n",
              "      <td>1.433735</td>\n",
              "      <td>WN</td>\n",
              "      <td>SNA</td>\n",
              "      <td>MDW</td>\n",
              "      <td>7</td>\n",
              "      <td>1</td>\n",
              "    </tr>\n",
              "    <tr>\n",
              "      <th>4</th>\n",
              "      <td>-0.566239</td>\n",
              "      <td>0.204819</td>\n",
              "      <td>CO</td>\n",
              "      <td>IAH</td>\n",
              "      <td>MCO</td>\n",
              "      <td>6</td>\n",
              "      <td>1</td>\n",
              "    </tr>\n",
              "  </tbody>\n",
              "</table>\n",
              "</div>"
            ],
            "text/plain": [
              "       Time    Length Airline AirportFrom AirportTo  DayOfWeek  Class\n",
              "0  0.160256  0.771084      CO         IAH       PHX          5      0\n",
              "1 -0.918803 -0.602410      OO         DSM       MKE          2      0\n",
              "2 -0.117521  1.698795      DL         SEA       CVG          7      0\n",
              "3 -0.427350  1.433735      WN         SNA       MDW          7      1\n",
              "4 -0.566239  0.204819      CO         IAH       MCO          6      1"
            ]
          },
          "execution_count": 6,
          "metadata": {},
          "output_type": "execute_result"
        }
      ],
      "source": [
        "scaler = RobustScaler()\n",
        "df[['Time','Length']] = scaler.fit_transform(df[['Time','Length']])\n",
        "df.head()"
      ]
    },
    {
      "cell_type": "code",
      "execution_count": null,
      "id": "5ab35567",
      "metadata": {
        "id": "5ab35567"
      },
      "outputs": [],
      "source": [
        "# Menyimpan nama kolom yang berjenis kategori ke dalam variabel cat_col\n",
        "cat_col = ['Airline','AirportFrom','AirportTo','DayOfWeek']"
      ]
    },
    {
      "cell_type": "code",
      "execution_count": null,
      "id": "a0f63805",
      "metadata": {
        "id": "a0f63805"
      },
      "outputs": [],
      "source": [
        "# Encoding Kolom Kategori\n",
        "from sklearn import preprocessing\n",
        "le = preprocessing.LabelEncoder()\n",
        "df[cat_col] = df[cat_col].apply(le.fit_transform)"
      ]
    },
    {
      "cell_type": "code",
      "execution_count": null,
      "id": "c6d26668",
      "metadata": {
        "id": "c6d26668",
        "outputId": "6a134485-c341-470d-f043-cc9f58c37076"
      },
      "outputs": [
        {
          "data": {
            "text/html": [
              "<div>\n",
              "<style scoped>\n",
              "    .dataframe tbody tr th:only-of-type {\n",
              "        vertical-align: middle;\n",
              "    }\n",
              "\n",
              "    .dataframe tbody tr th {\n",
              "        vertical-align: top;\n",
              "    }\n",
              "\n",
              "    .dataframe thead th {\n",
              "        text-align: right;\n",
              "    }\n",
              "</style>\n",
              "<table border=\"1\" class=\"dataframe\">\n",
              "  <thead>\n",
              "    <tr style=\"text-align: right;\">\n",
              "      <th></th>\n",
              "      <th>Time</th>\n",
              "      <th>Length</th>\n",
              "      <th>Airline</th>\n",
              "      <th>AirportFrom</th>\n",
              "      <th>AirportTo</th>\n",
              "      <th>DayOfWeek</th>\n",
              "      <th>Class</th>\n",
              "    </tr>\n",
              "  </thead>\n",
              "  <tbody>\n",
              "    <tr>\n",
              "      <th>0</th>\n",
              "      <td>0.160256</td>\n",
              "      <td>0.771084</td>\n",
              "      <td>4</td>\n",
              "      <td>125</td>\n",
              "      <td>199</td>\n",
              "      <td>4</td>\n",
              "      <td>0</td>\n",
              "    </tr>\n",
              "    <tr>\n",
              "      <th>1</th>\n",
              "      <td>-0.918803</td>\n",
              "      <td>-0.602410</td>\n",
              "      <td>12</td>\n",
              "      <td>76</td>\n",
              "      <td>170</td>\n",
              "      <td>1</td>\n",
              "      <td>0</td>\n",
              "    </tr>\n",
              "    <tr>\n",
              "      <th>2</th>\n",
              "      <td>-0.117521</td>\n",
              "      <td>1.698795</td>\n",
              "      <td>5</td>\n",
              "      <td>235</td>\n",
              "      <td>64</td>\n",
              "      <td>6</td>\n",
              "      <td>0</td>\n",
              "    </tr>\n",
              "    <tr>\n",
              "      <th>3</th>\n",
              "      <td>-0.427350</td>\n",
              "      <td>1.433735</td>\n",
              "      <td>15</td>\n",
              "      <td>245</td>\n",
              "      <td>162</td>\n",
              "      <td>6</td>\n",
              "      <td>1</td>\n",
              "    </tr>\n",
              "    <tr>\n",
              "      <th>4</th>\n",
              "      <td>-0.566239</td>\n",
              "      <td>0.204819</td>\n",
              "      <td>4</td>\n",
              "      <td>125</td>\n",
              "      <td>160</td>\n",
              "      <td>5</td>\n",
              "      <td>1</td>\n",
              "    </tr>\n",
              "  </tbody>\n",
              "</table>\n",
              "</div>"
            ],
            "text/plain": [
              "       Time    Length  Airline  AirportFrom  AirportTo  DayOfWeek  Class\n",
              "0  0.160256  0.771084        4          125        199          4      0\n",
              "1 -0.918803 -0.602410       12           76        170          1      0\n",
              "2 -0.117521  1.698795        5          235         64          6      0\n",
              "3 -0.427350  1.433735       15          245        162          6      1\n",
              "4 -0.566239  0.204819        4          125        160          5      1"
            ]
          },
          "execution_count": 9,
          "metadata": {},
          "output_type": "execute_result"
        }
      ],
      "source": [
        "df.head()"
      ]
    },
    {
      "cell_type": "code",
      "execution_count": null,
      "id": "46f083d3",
      "metadata": {
        "id": "46f083d3"
      },
      "outputs": [],
      "source": [
        "# Membuat variabel independen (X) dan variabel dependen (y)\n",
        "X = df.iloc[:,0:-1].values\n",
        "y = df.iloc[:,-1].values"
      ]
    },
    {
      "cell_type": "code",
      "execution_count": null,
      "id": "05540df7",
      "metadata": {
        "id": "05540df7"
      },
      "outputs": [],
      "source": [
        "# Membagi dataset ke data latih dan data uji\n",
        "from sklearn.model_selection import train_test_split\n",
        "X_train, X_test, y_train, y_test = train_test_split(X,y,test_size=0.3, random_state=0)"
      ]
    },
    {
      "cell_type": "code",
      "execution_count": null,
      "id": "6c5a7d18",
      "metadata": {
        "id": "6c5a7d18"
      },
      "outputs": [],
      "source": [
        "# Membuat Model - Import Library\n",
        "from sklearn.model_selection import cross_val_score, KFold\n",
        "from sklearn.neighbors import KNeighborsClassifier\n",
        "from sklearn.metrics import accuracy_score, classification_report, roc_auc_score"
      ]
    },
    {
      "cell_type": "code",
      "execution_count": null,
      "id": "433bb29f",
      "metadata": {
        "id": "433bb29f",
        "outputId": "eaefa9ac-3145-4cb1-f44d-2042eecf42e8"
      },
      "outputs": [
        {
          "name": "stdout",
          "output_type": "stream",
          "text": [
            "Accuracy on the training set: 0.555\n"
          ]
        }
      ],
      "source": [
        "knn = KNeighborsClassifier(n_neighbors= 3) # Menentukan jumlah tetangga terdekat (nearest neighbors)\n",
        "\n",
        "# Melatih model\n",
        "knn.fit(X_train, y_train)\n",
        "\n",
        "# Melakukan validasi silang dengan membagi data pelatihan menjadi 5 lipatan (folds)\n",
        "k = KFold(n_splits = 5)\n",
        "\n",
        "# Menghitung skor akurasi untuk setiap lipatan menggunakan metode validasi silang yang telah ditentukan\n",
        "score = cross_val_score(knn\n",
        "                        , X_train, y_train\n",
        "                        , scoring = 'accuracy' #Parameter yang ingin digunakan\n",
        "                        , cv = k).mean() # cv=k -> jumlah lipatan, .mean() -> menghitung rata-rata skor akurasi\n",
        "\n",
        "# Mencetak skor akurasi pada set data pelatihan dengan pembulatan ke 3 desimal\n",
        "print(\"Accuracy on the training set:\", round(score, 3))"
      ]
    },
    {
      "cell_type": "markdown",
      "id": "4b64de45",
      "metadata": {
        "id": "4b64de45"
      },
      "source": [
        "Pada tahap di atas, kita menerapkan K-Fold Cross-Validation (K-Fold CV) sebagai metode evaluasi model yang digunakan untuk menguji performa model dan mencegah overfitting.\n",
        "\n",
        "Dalam K-Fold CV, dataset dibagi menjadi K subset (fold) yang hampir sama ukurannya. Pada setiap iterasi, salah satu fold digunakan sebagai data validasi, sedangkan K-1 fold lainnya digunakan sebagai data pelatihan. Proses ini diulangi K kali untuk mendapatkan estimasi performa yang lebih akurat.\n",
        "\n",
        "Dengan menggunakan K-Fold CV, kita dapat memperoleh estimasi yang lebih akurat tentang kinerja model KNN dengan menggunakan seluruh dataset dan mempertimbangkan variasi yang mungkin dalam pemilihan data pelatihan dan validasi."
      ]
    },
    {
      "cell_type": "code",
      "execution_count": null,
      "id": "03cdfacd",
      "metadata": {
        "id": "03cdfacd",
        "outputId": "55c3bd5e-fd20-4c13-befb-f58dcfbf56d1"
      },
      "outputs": [
        {
          "name": "stdout",
          "output_type": "stream",
          "text": [
            "Accuracy on the test set: 0.547\n"
          ]
        }
      ],
      "source": [
        "y_pred = knn.predict(X_test)\n",
        "print(\"Accuracy on the test set:\", round(accuracy_score(y_test, y_pred), 3))"
      ]
    },
    {
      "cell_type": "code",
      "execution_count": null,
      "id": "fa6a91a2",
      "metadata": {
        "id": "fa6a91a2",
        "outputId": "e99f409f-df93-4f70-e5ad-f63ddfda96ab"
      },
      "outputs": [
        {
          "name": "stdout",
          "output_type": "stream",
          "text": [
            "              precision    recall  f1-score   support\n",
            "\n",
            " Not Delayed       0.60      0.61      0.60      1823\n",
            "     Delayed       0.48      0.46      0.47      1414\n",
            "\n",
            "    accuracy                           0.55      3237\n",
            "   macro avg       0.54      0.54      0.54      3237\n",
            "weighted avg       0.55      0.55      0.55      3237\n",
            "\n"
          ]
        }
      ],
      "source": [
        "from sklearn.metrics import classification_report\n",
        "target_names = ['Not Delayed', 'Delayed']\n",
        "print(classification_report(y_test, y_pred, target_names=target_names))"
      ]
    },
    {
      "cell_type": "code",
      "execution_count": null,
      "id": "9ecae449",
      "metadata": {
        "id": "9ecae449"
      },
      "outputs": [],
      "source": [
        "# Membuat list kosong dalam variabel accuracy\n",
        "accuracy = []\n",
        "\n",
        "# Membuat loop dengan rentang nilai i dari 1-14 (Exclude 15)\n",
        "# Loop akan menguji setiap n dari 1-14 untuk mencari n dengan akurasi yang paling tinggi\n",
        "\n",
        "for i in range(1,15):\n",
        "    knn = KNeighborsClassifier(n_neighbors=i)\n",
        "    knn.fit(X_train,y_train)\n",
        "    pred_i = knn.predict(X_test)\n",
        "    accuracy_i = accuracy_score(y_test, pred_i)\n",
        "\n",
        "    # Menyimpan skor akurasi pada setiap iterasi ke dalam list \"accuracy\"\n",
        "    accuracy.append(accuracy_i)"
      ]
    },
    {
      "cell_type": "code",
      "execution_count": null,
      "id": "b7081bca",
      "metadata": {
        "id": "b7081bca"
      },
      "outputs": [],
      "source": [
        "import matplotlib.pyplot as plt"
      ]
    },
    {
      "cell_type": "code",
      "execution_count": null,
      "id": "6a37ec10",
      "metadata": {
        "id": "6a37ec10",
        "outputId": "61167b6b-f530-46a6-b386-eccd93741334",
        "scrolled": true
      },
      "outputs": [
        {
          "data": {
            "image/png": "[encoded data removed]",
            "text/plain": [
              "<Figure size 1080x432 with 1 Axes>"
            ]
          },
          "metadata": {
            "needs_background": "light"
          },
          "output_type": "display_data"
        }
      ],
      "source": [
        "# Melihat akurasi dari setiap iterasi pada line chart\n",
        "plt.figure(figsize=(15,6))\n",
        "plt.plot(range(1,15, 1), accuracy, color='blue', linestyle='dashed', marker='o',\n",
        "         markerfacecolor='red', markersize=10)\n",
        "plt.title('Accuracy vs. K Value')\n",
        "plt.xlabel('K')\n",
        "plt.ylabel('Accuracy')\n",
        "plt.show()"
      ]
    },
    {
      "cell_type": "code",
      "execution_count": null,
      "id": "43a8d270",
      "metadata": {
        "id": "43a8d270"
      },
      "outputs": [],
      "source": [
        "# Dapat dilihat dari grafik di atas bahwa akurasi paling tinggi didapatkan dengan n = 14\n",
        "knn = KNeighborsClassifier(n_neighbors = 4)\n",
        "knn.fit(X_train, y_train)\n",
        "y_pred = knn.predict(X_test)"
      ]
    },
    {
      "cell_type": "code",
      "execution_count": null,
      "id": "c5ecf818",
      "metadata": {
        "id": "c5ecf818",
        "outputId": "1bf9edf4-fbfa-471e-cfd0-0a62944532d9"
      },
      "outputs": [
        {
          "name": "stdout",
          "output_type": "stream",
          "text": [
            "Accuracy on the test set: 56.26%\n"
          ]
        }
      ],
      "source": [
        "accuracy = accuracy_score(y_test, y_pred)\n",
        "print(f\"Accuracy on the test set: {round(accuracy * 100, 2)}%\")"
      ]
    },
    {
      "cell_type": "code",
      "execution_count": null,
      "id": "458c140f",
      "metadata": {
        "id": "458c140f",
        "outputId": "48c30cea-999a-4e79-e977-2e012f0ca908"
      },
      "outputs": [
        {
          "name": "stdout",
          "output_type": "stream",
          "text": [
            "              precision    recall  f1-score   support\n",
            "\n",
            " Not Delayed       0.58      0.77      0.67      1823\n",
            "     Delayed       0.50      0.29      0.37      1414\n",
            "\n",
            "    accuracy                           0.56      3237\n",
            "   macro avg       0.54      0.53      0.52      3237\n",
            "weighted avg       0.55      0.56      0.54      3237\n",
            "\n"
          ]
        }
      ],
      "source": [
        "print(classification_report(y_test, y_pred, target_names=target_names))"
      ]
    },
    {
      "cell_type": "code",
      "execution_count": null,
      "id": "42a688da",
      "metadata": {
        "id": "42a688da"
      },
      "outputs": [],
      "source": [
        "import sklearn.metrics as metrics\n",
        "import matplotlib.pyplot as plt"
      ]
    },
    {
      "cell_type": "code",
      "execution_count": null,
      "id": "33166162",
      "metadata": {
        "id": "33166162",
        "outputId": "7a58498b-0b7c-426a-b755-c9c3f712e4ed"
      },
      "outputs": [
        {
          "data": {
            "image/png": "[encoded data removed]",
            "text/plain": [
              "<Figure size 432x288 with 1 Axes>"
            ]
          },
          "metadata": {
            "needs_background": "light"
          },
          "output_type": "display_data"
        }
      ],
      "source": [
        "# Memperoleh probabilitas prediksi kelas positif (y=1) dari model klasifikasi KNN untuk data uji (X_test)\n",
        "y_pred_proba = knn.predict_proba(X_test)[::,1]\n",
        "\n",
        "fpr, tpr, _ = metrics.roc_curve(y_test,  y_pred_proba)\n",
        "auc = metrics.roc_auc_score(y_test, y_pred_proba)\n",
        "plt.plot(fpr,tpr,label=\"Score AUC=\"+str(auc))\n",
        "plt.legend(loc=4)\n",
        "plt.show()"
      ]
    }
  ],
  "metadata": {
    "colab": {
      "provenance": [],
      "include_colab_link": true
    },
    "kernelspec": {
      "display_name": "Python 3 (ipykernel)",
      "language": "python",
      "name": "python3"
    },
    "language_info": {
      "codemirror_mode": {
        "name": "ipython",
        "version": 3
      },
      "file_extension": ".py",
      "mimetype": "text/x-python",
      "name": "python",
      "nbconvert_exporter": "python",
      "pygments_lexer": "ipython3",
      "version": "3.8.10"
    }
  },
  "nbformat": 4,
  "nbformat_minor": 5
}