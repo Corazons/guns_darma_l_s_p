{
  "cells": [
    {
      "cell_type": "markdown",
      "metadata": {
        "id": "view-in-github",
        "colab_type": "text"
      },
      "source": [
        "<a href=\"https://colab.research.google.com/github/Corazons/guns_darma_l_s_p/blob/main/Pertemuan_4_Data_Modelling_5_K_Means_Contoh_Kasus.ipynb\" target=\"_parent\"><img src=\"https://colab.research.google.com/assets/colab-badge.svg\" alt=\"Open In Colab\"/></a>"
      ]
    },
    {
      "cell_type": "markdown",
      "id": "30fce050",
      "metadata": {
        "id": "30fce050"
      },
      "source": [
        "<center>\n",
        "    <img src=\"https://drive.google.com/uc?export=view&id=1hDKusF04c0lNZA_qOShvWQrpImayVKz8\"  width=\"1000\" />\n",
        "</center>"
      ]
    },
    {
      "cell_type": "markdown",
      "id": "78957aef",
      "metadata": {
        "id": "78957aef"
      },
      "source": [
        "# Hands-On\n",
        "---\n",
        "Hands-On ini digunakan pada kegiatan Kursus Data Science yang merupakan pembekalan bagi mahasiswa Universitas Gunadarma untuk Skema Associate Data Scientist"
      ]
    },
    {
      "cell_type": "markdown",
      "id": "e1d3e6a4",
      "metadata": {
        "id": "e1d3e6a4"
      },
      "source": [
        "### Pertemuan 4 - Semester 8"
      ]
    },
    {
      "cell_type": "markdown",
      "id": "d4269619",
      "metadata": {
        "id": "d4269619"
      },
      "source": [
        "### Daftar Isi :\n",
        "Membangun Model dan Mengevaluasi Hasil Pemodelan\n",
        "- Supervised Learning\n",
        "    - Klasifikasi\n",
        "    1. Menggunakan machine learning\n",
        "    2. Menggunakan deep learning\n",
        "    \n",
        "- Unsupervised Learning"
      ]
    },
    {
      "cell_type": "markdown",
      "id": "1157e033",
      "metadata": {
        "id": "1157e033"
      },
      "source": [
        "### Supervised Learning dan Unsupervised Learning"
      ]
    },
    {
      "cell_type": "markdown",
      "id": "77699057",
      "metadata": {
        "id": "77699057"
      },
      "source": [
        "<center>\n",
        "    <img src=\"https://miro.medium.com/v2/resize:fit:720/format:webp/0*H4D11uM2V6wcgK4k.png\"  width=\"300\" />\n",
        "    <figcaption>Ilustrasi Supervised dan Unsupervised Learning</figcaption>\n",
        "</center>"
      ]
    },
    {
      "cell_type": "markdown",
      "id": "1c5d9ad2",
      "metadata": {
        "id": "1c5d9ad2"
      },
      "source": [
        "### Supervised Learning\n",
        "Supervised learning adalah jenis pembelajaran mesin di mana algoritma diajari menggunakan data yang sudah diberi label. Dalam supervised learning, ada variabel target (variabel dependen) yang ingin diprediksi, dan algoritma dilatih untuk menghubungkan fitur atau atribut yang ada dalam data dengan target yang telah diberikan (variabel independen).\n",
        "\n",
        "Supervised learning biasanya digunakan untuk dua hal utama :\n",
        "- Classification\n",
        "- Regression\n",
        "\n",
        "Beberapa algoritma supervised learning :\n",
        "1. Linear Regression\n",
        "2. Logistic Regression\n",
        "3. K-Nearest Neighbours\n",
        "4. Decision Trees\n",
        "5. SVM\n",
        "6. Naive Bayes\n",
        "7. Neural Networks"
      ]
    },
    {
      "cell_type": "markdown",
      "id": "032330ca",
      "metadata": {
        "id": "032330ca"
      },
      "source": [
        "### Unsupervised Learning\n",
        "Unsupervised learning adalah jenis pembelajaran mesin di mana algoritma dilatih dari data yang tidak memiliki label atau target yang jelas. Dalam unsupervised learning, tujuannya adalah menemukan pola, struktur, dan hubungan tersembunyi dalam data tanpa arahan yang eksplisit.\n",
        "\n",
        "Umumnya unsupervised learning digunakan untuk tiga hal utama:\n",
        "- Clustering\n",
        "- Association\n",
        "- Dimensionality reduction\n",
        "\n",
        "Salah satu contoh unsupervised Learning algorithms :\n",
        "1. K-Means"
      ]
    },
    {
      "cell_type": "markdown",
      "id": "cf0f3317",
      "metadata": {
        "id": "cf0f3317"
      },
      "source": [
        "### 3. Membangun Model Unsupervised Learning dan Mengevaluasi Hasil Pemodelan (K-Means)\n",
        "\n",
        "---"
      ]
    },
    {
      "cell_type": "code",
      "execution_count": null,
      "id": "c2677e62",
      "metadata": {
        "id": "c2677e62"
      },
      "outputs": [],
      "source": [
        "# Import library\n",
        "import pandas as pd\n",
        "from sklearn.cluster import KMeans\n",
        "import pandas as pd\n",
        "\n",
        "import matplotlib.pyplot as plt"
      ]
    },
    {
      "cell_type": "code",
      "execution_count": null,
      "id": "f961c9a9",
      "metadata": {
        "id": "f961c9a9"
      },
      "outputs": [],
      "source": [
        "# Memuat Data\n",
        "df = pd.read_csv('delay_maskapai_unsupervised.csv')"
      ]
    },
    {
      "cell_type": "code",
      "execution_count": null,
      "id": "4769ef99",
      "metadata": {
        "id": "4769ef99",
        "outputId": "8e587d40-da6e-4259-e443-e9209bce3431"
      },
      "outputs": [
        {
          "name": "stdout",
          "output_type": "stream",
          "text": [
            "<class 'pandas.core.frame.DataFrame'>\n",
            "RangeIndex: 10787 entries, 0 to 10786\n",
            "Data columns (total 7 columns):\n",
            " #   Column       Non-Null Count  Dtype  \n",
            "---  ------       --------------  -----  \n",
            " 0   Flight       10787 non-null  float64\n",
            " 1   Time         10787 non-null  float64\n",
            " 2   Length       10787 non-null  float64\n",
            " 3   Airline      10787 non-null  object \n",
            " 4   AirportFrom  10787 non-null  object \n",
            " 5   AirportTo    10787 non-null  object \n",
            " 6   DayOfWeek    10787 non-null  int64  \n",
            "dtypes: float64(3), int64(1), object(3)\n",
            "memory usage: 590.0+ KB\n"
          ]
        }
      ],
      "source": [
        "df.info()"
      ]
    },
    {
      "cell_type": "code",
      "execution_count": null,
      "id": "13ca6aa4",
      "metadata": {
        "id": "13ca6aa4"
      },
      "outputs": [],
      "source": [
        "df.drop(['Flight'],axis=1,inplace=True)"
      ]
    },
    {
      "cell_type": "code",
      "execution_count": null,
      "id": "9d9c868d",
      "metadata": {
        "id": "9d9c868d",
        "outputId": "7f331333-2d60-4ffb-e036-5dce5f07e1f5"
      },
      "outputs": [
        {
          "data": {
            "text/plain": [
              "Text(0, 0.5, 'Time')"
            ]
          },
          "execution_count": 5,
          "metadata": {},
          "output_type": "execute_result"
        },
        {
          "data": {
            "image/png": "[encoded data removed]",
            "text/plain": [
              "<Figure size 432x288 with 1 Axes>"
            ]
          },
          "metadata": {
            "needs_background": "light"
          },
          "output_type": "display_data"
        }
      ],
      "source": [
        "# Eksplorasi Data\n",
        "plt.scatter(df[\"Length\"],\n",
        "            df[\"Time\"])\n",
        "\n",
        "plt.xlabel(\"Length\")\n",
        "plt.ylabel(\"Time\")"
      ]
    },
    {
      "cell_type": "markdown",
      "id": "453d30e0",
      "metadata": {
        "id": "453d30e0"
      },
      "source": [
        "Pada scatterplot di atas dapat dilihat bahwa cluster dari data masih belum terlihat jelas. Maka dari itu, K-Means disini berfungsi untuk menentukan cluster secara efisien"
      ]
    },
    {
      "cell_type": "code",
      "execution_count": null,
      "id": "5f352c33",
      "metadata": {
        "id": "5f352c33"
      },
      "outputs": [],
      "source": [
        "# Scaling\n",
        "from sklearn.preprocessing import StandardScaler"
      ]
    },
    {
      "cell_type": "code",
      "execution_count": null,
      "id": "0f1a0f7d",
      "metadata": {
        "id": "0f1a0f7d",
        "outputId": "93ca3e3b-8bb8-4b3f-e653-597f8debe5df"
      },
      "outputs": [
        {
          "data": {
            "text/html": [
              "<div>\n",
              "<style scoped>\n",
              "    .dataframe tbody tr th:only-of-type {\n",
              "        vertical-align: middle;\n",
              "    }\n",
              "\n",
              "    .dataframe tbody tr th {\n",
              "        vertical-align: top;\n",
              "    }\n",
              "\n",
              "    .dataframe thead th {\n",
              "        text-align: right;\n",
              "    }\n",
              "</style>\n",
              "<table border=\"1\" class=\"dataframe\">\n",
              "  <thead>\n",
              "    <tr style=\"text-align: right;\">\n",
              "      <th></th>\n",
              "      <th>Time</th>\n",
              "      <th>Length</th>\n",
              "    </tr>\n",
              "  </thead>\n",
              "  <tbody>\n",
              "    <tr>\n",
              "      <th>0</th>\n",
              "      <td>0.241211</td>\n",
              "      <td>0.651624</td>\n",
              "    </tr>\n",
              "    <tr>\n",
              "      <th>1</th>\n",
              "      <td>-1.582136</td>\n",
              "      <td>-0.940654</td>\n",
              "    </tr>\n",
              "    <tr>\n",
              "      <th>2</th>\n",
              "      <td>-0.228166</td>\n",
              "      <td>1.727109</td>\n",
              "    </tr>\n",
              "    <tr>\n",
              "      <th>3</th>\n",
              "      <td>-0.751701</td>\n",
              "      <td>1.419828</td>\n",
              "    </tr>\n",
              "    <tr>\n",
              "      <th>4</th>\n",
              "      <td>-0.986389</td>\n",
              "      <td>-0.004841</td>\n",
              "    </tr>\n",
              "  </tbody>\n",
              "</table>\n",
              "</div>"
            ],
            "text/plain": [
              "       Time    Length\n",
              "0  0.241211  0.651624\n",
              "1 -1.582136 -0.940654\n",
              "2 -0.228166  1.727109\n",
              "3 -0.751701  1.419828\n",
              "4 -0.986389 -0.004841"
            ]
          },
          "execution_count": 7,
          "metadata": {},
          "output_type": "execute_result"
        }
      ],
      "source": [
        "scaler = StandardScaler()\n",
        "df[['Time','Length']] = scaler.fit_transform(df[['Time','Length']])\n",
        "scaled_data = df[['Time','Length']]\n",
        "\n",
        "scaled_data.head()"
      ]
    },
    {
      "cell_type": "code",
      "execution_count": null,
      "id": "36f6b9c0",
      "metadata": {
        "id": "36f6b9c0"
      },
      "outputs": [],
      "source": [
        "def find_best_clusters(df, maximum_K):\n",
        "\n",
        "    clusters_centers = []\n",
        "    k_values = []\n",
        "\n",
        "    for k in range(1, maximum_K):\n",
        "\n",
        "        kmeans_model = KMeans(n_clusters = k, random_state=42, n_init='auto',max_iter=300)\n",
        "        kmeans_model.fit(df)\n",
        "\n",
        "        clusters_centers.append(kmeans_model.inertia_)\n",
        "        k_values.append(k)\n",
        "\n",
        "\n",
        "    return clusters_centers, k_values"
      ]
    },
    {
      "cell_type": "markdown",
      "id": "1c4bec46",
      "metadata": {
        "id": "1c4bec46"
      },
      "source": [
        "Fungsi di atas digunakan untuk mencari jumlah cluster yang optimal dalam rentang nilai K tertentu. Fungsi mengambil dua argumen: df yang merupakan dataframe yang berisi data yang akan digunakan untuk clustering, dan maximum_K yang merupakan nilai maksimum untuk jumlah cluster yang akan dievaluasi.\n",
        "\n",
        "- Dalam setiap iterasi loop, fungsi membuat objek KMeans dengan jumlah cluster yang berbeda, mulai dari 1 hingga maximum_K - 1.\n",
        "- Model KMeans kemudian dilatih menggunakan data df.\n",
        "- Setelah pelatihan, nilai inersia dari setiap model KMeans, yaitu jumlah jarak kuadrat antara titik data dengan pusat cluster terdekat, disimpan dalam daftar clusters_centers.\n",
        "- Jumlah cluster yang digunakan untuk model KMeans disimpan dalam daftar k_values.\n",
        "- Fungsi mengembalikan dua daftar, yaitu clusters_centers dan k_values.\n",
        "- generate_elbow_plot(clusters_centers, k_values): Fungsi ini digunakan untuk menghasilkan elbow plot berdasarkan daftar nilai inersia dan jumlah cluster yang diperoleh dari fungsi sebelumnya. Fungsi mengambil dua argumen: clusters_centers yang berisi daftar nilai inersia, dan k_values yang berisi daftar jumlah cluster."
      ]
    },
    {
      "cell_type": "code",
      "execution_count": null,
      "id": "51e70d24",
      "metadata": {
        "id": "51e70d24"
      },
      "outputs": [],
      "source": [
        "def generate_elbow_plot(clusters_centers, k_values):\n",
        "\n",
        "    figure = plt.subplots(figsize = (12, 6))\n",
        "    plt.plot(k_values, clusters_centers, 'o-', color = 'orange')\n",
        "    plt.xlabel(\"Number of Clusters (K)\")\n",
        "    plt.ylabel(\"Cluster Inertia\")\n",
        "    plt.title(\"Elbow Plot of KMeans\")\n",
        "    plt.show()"
      ]
    },
    {
      "cell_type": "markdown",
      "id": "e310ca59",
      "metadata": {
        "id": "e310ca59"
      },
      "source": [
        "Fungsi di atas menghasilkan elbow plot berdasarkan daftar nilai inersia dan jumlah cluster yang diperoleh dari fungsi sebelumnya. Fungsi mengambil dua argumen: clusters_centers yang berisi daftar nilai inersia, dan k_values yang berisi daftar jumlah cluster.\n",
        "\n",
        "- Fungsi menghasilkan sebuah plot dengan menggunakan plt.subplots dengan ukuran gambar (figsize) yang ditentukan.\n",
        "- Plot menampilkan garis yang menghubungkan setiap nilai inersia dengan jumlah cluster yang sesuai, menggunakan plt.plot.\n",
        "- Label sumbu x ditetapkan sebagai \"Number of Clusters (K)\" menggunakan plt.xlabel.\n",
        "- Label sumbu y ditetapkan sebagai \"Cluster Inertia\" menggunakan plt.ylabel.\n",
        "- Judul plot ditetapkan sebagai \"Elbow Plot of KMeans\" menggunakan plt.title.\n",
        "- Akhirnya, plot ditampilkan menggunakan plt.show()."
      ]
    },
    {
      "cell_type": "markdown",
      "id": "abff905d",
      "metadata": {
        "id": "abff905d"
      },
      "source": [
        "Cluster inertia adalah ukuran yang digunakan untuk menggambarkan seberapa rapat atau terkonsentrasi titik data dalam setiap cluster pada algoritma clustering, seperti KMeans.\n",
        "\n",
        "Cluster inertia menggambarkan jumlah jarak kuadrat antara setiap titik data dengan pusat cluster terdekatnya. Secara intuitif, Cluster inertia mengukur seberapa jauh titik data dalam satu cluster cenderung berada dari pusatnya. Semakin kecil Cluster inertia, semakin rapat atau terkonsentrasi titik data dalam setiap cluster, yang mengindikasikan kualitas yang lebih baik dari hasil clustering."
      ]
    },
    {
      "cell_type": "code",
      "execution_count": null,
      "id": "79bda022",
      "metadata": {
        "id": "79bda022"
      },
      "outputs": [],
      "source": [
        "clusters_centers, k_values = find_best_clusters(scaled_data, 12)"
      ]
    },
    {
      "cell_type": "code",
      "execution_count": null,
      "id": "7bb1ccbc",
      "metadata": {
        "id": "7bb1ccbc",
        "outputId": "d90ae2ae-2fd1-49a3-e2bb-43cda64ce2ab"
      },
      "outputs": [
        {
          "data": {
            "image/png": "[encoded data removed]",
            "text/plain": [
              "<Figure size 864x432 with 1 Axes>"
            ]
          },
          "metadata": {
            "needs_background": "light"
          },
          "output_type": "display_data"
        }
      ],
      "source": [
        "generate_elbow_plot(clusters_centers, k_values)"
      ]
    },
    {
      "cell_type": "markdown",
      "id": "dee6aeb7",
      "metadata": {
        "id": "dee6aeb7"
      },
      "source": [
        "<center>\n",
        "    <img src=\"https://drive.google.com/uc?export=view&id=1m1UEQRx-a-r2S4jrHkz31lFqCdoiFZcW\"  width=\"1000\" />\n",
        "</center>"
      ]
    },
    {
      "cell_type": "markdown",
      "id": "c9db355f",
      "metadata": {
        "id": "c9db355f"
      },
      "source": [
        "Dari plot, kita dapat melihat bahwa inersia cluster menurun saat jumlah cluster meningkat. Selain itu, penurunan inersia menjadi minimal setelah K=7, sehingga 7 dapat dianggap sebagai jumlah cluster yang optimal."
      ]
    },
    {
      "cell_type": "code",
      "execution_count": null,
      "id": "0187f022",
      "metadata": {
        "id": "0187f022",
        "outputId": "3668abc6-fb33-40ee-e3ec-8ce4d2bdaf59"
      },
      "outputs": [
        {
          "data": {
            "text/html": [
              "<style>#sk-container-id-1 {color: black;background-color: white;}#sk-container-id-1 pre{padding: 0;}#sk-container-id-1 div.sk-toggleable {background-color: white;}#sk-container-id-1 label.sk-toggleable__label {cursor: pointer;display: block;width: 100%;margin-bottom: 0;padding: 0.3em;box-sizing: border-box;text-align: center;}#sk-container-id-1 label.sk-toggleable__label-arrow:before {content: \"▸\";float: left;margin-right: 0.25em;color: #696969;}#sk-container-id-1 label.sk-toggleable__label-arrow:hover:before {color: black;}#sk-container-id-1 div.sk-estimator:hover label.sk-toggleable__label-arrow:before {color: black;}#sk-container-id-1 div.sk-toggleable__content {max-height: 0;max-width: 0;overflow: hidden;text-align: left;background-color: #f0f8ff;}#sk-container-id-1 div.sk-toggleable__content pre {margin: 0.2em;color: black;border-radius: 0.25em;background-color: #f0f8ff;}#sk-container-id-1 input.sk-toggleable__control:checked~div.sk-toggleable__content {max-height: 200px;max-width: 100%;overflow: auto;}#sk-container-id-1 input.sk-toggleable__control:checked~label.sk-toggleable__label-arrow:before {content: \"▾\";}#sk-container-id-1 div.sk-estimator input.sk-toggleable__control:checked~label.sk-toggleable__label {background-color: #d4ebff;}#sk-container-id-1 div.sk-label input.sk-toggleable__control:checked~label.sk-toggleable__label {background-color: #d4ebff;}#sk-container-id-1 input.sk-hidden--visually {border: 0;clip: rect(1px 1px 1px 1px);clip: rect(1px, 1px, 1px, 1px);height: 1px;margin: -1px;overflow: hidden;padding: 0;position: absolute;width: 1px;}#sk-container-id-1 div.sk-estimator {font-family: monospace;background-color: #f0f8ff;border: 1px dotted black;border-radius: 0.25em;box-sizing: border-box;margin-bottom: 0.5em;}#sk-container-id-1 div.sk-estimator:hover {background-color: #d4ebff;}#sk-container-id-1 div.sk-parallel-item::after {content: \"\";width: 100%;border-bottom: 1px solid gray;flex-grow: 1;}#sk-container-id-1 div.sk-label:hover label.sk-toggleable__label {background-color: #d4ebff;}#sk-container-id-1 div.sk-serial::before {content: \"\";position: absolute;border-left: 1px solid gray;box-sizing: border-box;top: 0;bottom: 0;left: 50%;z-index: 0;}#sk-container-id-1 div.sk-serial {display: flex;flex-direction: column;align-items: center;background-color: white;padding-right: 0.2em;padding-left: 0.2em;position: relative;}#sk-container-id-1 div.sk-item {position: relative;z-index: 1;}#sk-container-id-1 div.sk-parallel {display: flex;align-items: stretch;justify-content: center;background-color: white;position: relative;}#sk-container-id-1 div.sk-item::before, #sk-container-id-1 div.sk-parallel-item::before {content: \"\";position: absolute;border-left: 1px solid gray;box-sizing: border-box;top: 0;bottom: 0;left: 50%;z-index: -1;}#sk-container-id-1 div.sk-parallel-item {display: flex;flex-direction: column;z-index: 1;position: relative;background-color: white;}#sk-container-id-1 div.sk-parallel-item:first-child::after {align-self: flex-end;width: 50%;}#sk-container-id-1 div.sk-parallel-item:last-child::after {align-self: flex-start;width: 50%;}#sk-container-id-1 div.sk-parallel-item:only-child::after {width: 0;}#sk-container-id-1 div.sk-dashed-wrapped {border: 1px dashed gray;margin: 0 0.4em 0.5em 0.4em;box-sizing: border-box;padding-bottom: 0.4em;background-color: white;}#sk-container-id-1 div.sk-label label {font-family: monospace;font-weight: bold;display: inline-block;line-height: 1.2em;}#sk-container-id-1 div.sk-label-container {text-align: center;}#sk-container-id-1 div.sk-container {/* jupyter's `normalize.less` sets `[hidden] { display: none; }` but bootstrap.min.css set `[hidden] { display: none !important; }` so we also need the `!important` here to be able to override the default hidden behavior on the sphinx rendered scikit-learn.org. See: https://github.com/scikit-learn/scikit-learn/issues/21755 */display: inline-block !important;position: relative;}#sk-container-id-1 div.sk-text-repr-fallback {display: none;}</style><div id=\"sk-container-id-1\" class=\"sk-top-container\"><div class=\"sk-text-repr-fallback\"><pre>KMeans(n_clusters=7, n_init=&#x27;auto&#x27;, random_state=42)</pre><b>In a Jupyter environment, please rerun this cell to show the HTML representation or trust the notebook. <br />On GitHub, the HTML representation is unable to render, please try loading this page with nbviewer.org.</b></div><div class=\"sk-container\" hidden><div class=\"sk-item\"><div class=\"sk-estimator sk-toggleable\"><input class=\"sk-toggleable__control sk-hidden--visually\" id=\"sk-estimator-id-1\" type=\"checkbox\" checked><label for=\"sk-estimator-id-1\" class=\"sk-toggleable__label sk-toggleable__label-arrow\">KMeans</label><div class=\"sk-toggleable__content\"><pre>KMeans(n_clusters=7, n_init=&#x27;auto&#x27;, random_state=42)</pre></div></div></div></div></div>"
            ],
            "text/plain": [
              "KMeans(n_clusters=7, n_init='auto', random_state=42)"
            ]
          },
          "execution_count": 12,
          "metadata": {},
          "output_type": "execute_result"
        }
      ],
      "source": [
        "# Melakukan clustering dengan k = 7\n",
        "kmeans_model = KMeans(n_clusters = 7,random_state=42, n_init='auto',max_iter=300)\n",
        "\n",
        "kmeans_model.fit(scaled_data)"
      ]
    },
    {
      "cell_type": "code",
      "execution_count": null,
      "id": "8ed42e97",
      "metadata": {
        "id": "8ed42e97"
      },
      "outputs": [],
      "source": [
        "# Membuat kolom baru dengan data dari hasil clustering oleh K-Means\n",
        "df['Cluster Label'] = kmeans_model.labels_"
      ]
    },
    {
      "cell_type": "code",
      "execution_count": null,
      "id": "1e57ca60",
      "metadata": {
        "id": "1e57ca60",
        "outputId": "2f59c70b-8f51-42e4-843f-3e8b05902f72"
      },
      "outputs": [
        {
          "data": {
            "text/html": [
              "<div>\n",
              "<style scoped>\n",
              "    .dataframe tbody tr th:only-of-type {\n",
              "        vertical-align: middle;\n",
              "    }\n",
              "\n",
              "    .dataframe tbody tr th {\n",
              "        vertical-align: top;\n",
              "    }\n",
              "\n",
              "    .dataframe thead th {\n",
              "        text-align: right;\n",
              "    }\n",
              "</style>\n",
              "<table border=\"1\" class=\"dataframe\">\n",
              "  <thead>\n",
              "    <tr style=\"text-align: right;\">\n",
              "      <th></th>\n",
              "      <th>Time</th>\n",
              "      <th>Length</th>\n",
              "      <th>Airline</th>\n",
              "      <th>AirportFrom</th>\n",
              "      <th>AirportTo</th>\n",
              "      <th>DayOfWeek</th>\n",
              "      <th>Cluster Label</th>\n",
              "    </tr>\n",
              "  </thead>\n",
              "  <tbody>\n",
              "    <tr>\n",
              "      <th>0</th>\n",
              "      <td>0.241211</td>\n",
              "      <td>0.651624</td>\n",
              "      <td>CO</td>\n",
              "      <td>IAH</td>\n",
              "      <td>PHX</td>\n",
              "      <td>5</td>\n",
              "      <td>0</td>\n",
              "    </tr>\n",
              "    <tr>\n",
              "      <th>1</th>\n",
              "      <td>-1.582136</td>\n",
              "      <td>-0.940654</td>\n",
              "      <td>OO</td>\n",
              "      <td>DSM</td>\n",
              "      <td>MKE</td>\n",
              "      <td>2</td>\n",
              "      <td>3</td>\n",
              "    </tr>\n",
              "    <tr>\n",
              "      <th>2</th>\n",
              "      <td>-0.228166</td>\n",
              "      <td>1.727109</td>\n",
              "      <td>DL</td>\n",
              "      <td>SEA</td>\n",
              "      <td>CVG</td>\n",
              "      <td>7</td>\n",
              "      <td>2</td>\n",
              "    </tr>\n",
              "    <tr>\n",
              "      <th>3</th>\n",
              "      <td>-0.751701</td>\n",
              "      <td>1.419828</td>\n",
              "      <td>WN</td>\n",
              "      <td>SNA</td>\n",
              "      <td>MDW</td>\n",
              "      <td>7</td>\n",
              "      <td>4</td>\n",
              "    </tr>\n",
              "    <tr>\n",
              "      <th>4</th>\n",
              "      <td>-0.986389</td>\n",
              "      <td>-0.004841</td>\n",
              "      <td>CO</td>\n",
              "      <td>IAH</td>\n",
              "      <td>MCO</td>\n",
              "      <td>6</td>\n",
              "      <td>4</td>\n",
              "    </tr>\n",
              "  </tbody>\n",
              "</table>\n",
              "</div>"
            ],
            "text/plain": [
              "       Time    Length Airline AirportFrom AirportTo  DayOfWeek  Cluster Label\n",
              "0  0.241211  0.651624      CO         IAH       PHX          5              0\n",
              "1 -1.582136 -0.940654      OO         DSM       MKE          2              3\n",
              "2 -0.228166  1.727109      DL         SEA       CVG          7              2\n",
              "3 -0.751701  1.419828      WN         SNA       MDW          7              4\n",
              "4 -0.986389 -0.004841      CO         IAH       MCO          6              4"
            ]
          },
          "execution_count": 14,
          "metadata": {},
          "output_type": "execute_result"
        }
      ],
      "source": [
        "df.head()"
      ]
    },
    {
      "cell_type": "code",
      "execution_count": null,
      "id": "2cff0420",
      "metadata": {
        "id": "2cff0420",
        "outputId": "ab28ff5f-a871-4965-9adb-37667d3693e4",
        "scrolled": true
      },
      "outputs": [
        {
          "data": {
            "image/png": "[encoded data removed]",
            "text/plain": [
              "<Figure size 432x288 with 1 Axes>"
            ]
          },
          "metadata": {
            "needs_background": "light"
          },
          "output_type": "display_data"
        }
      ],
      "source": [
        "# Melihat hasil cluster K-Means dengan scatter plot\n",
        "plt.scatter(df[\"Length\"],\n",
        "            df[\"Time\"],\n",
        "            c = df[\"Cluster Label\"])\n",
        "\n",
        "plt.xlabel(\"Time\")\n",
        "plt.ylabel(\"Length\")\n",
        "plt.show()"
      ]
    }
  ],
  "metadata": {
    "colab": {
      "provenance": [],
      "include_colab_link": true
    },
    "kernelspec": {
      "display_name": "Python 3 (ipykernel)",
      "language": "python",
      "name": "python3"
    },
    "language_info": {
      "codemirror_mode": {
        "name": "ipython",
        "version": 3
      },
      "file_extension": ".py",
      "mimetype": "text/x-python",
      "name": "python",
      "nbconvert_exporter": "python",
      "pygments_lexer": "ipython3",
      "version": "3.8.10"
    }
  },
  "nbformat": 4,
  "nbformat_minor": 5
}